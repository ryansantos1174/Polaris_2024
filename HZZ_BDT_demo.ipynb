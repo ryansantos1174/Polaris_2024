{
 "cells": [
  {
   "cell_type": "markdown",
   "metadata": {},
   "source": [
    "<CENTER><img src=\"../../images/ATLASOD.gif\" style=\"width:50%\"></CENTER>"
   ]
  },
  {
   "cell_type": "markdown",
   "metadata": {},
   "source": [
    "# How to rediscover the Higgs boson yourself - with a BDT!\n",
    "This notebook uses ATLAS Open Data http://opendata.atlas.cern to show you the steps to apply Machine Learning in search for the Higgs boson!\n",
    "\n",
    "ATLAS Open Data provides open access to proton-proton collision data at the LHC for educational purposes. ATLAS Open Data resources are ideal for high-school, undergraduate and postgraduate students.\n",
    "\n",
    "Notebooks are web applications that allow you to create and share documents that can contain for example:\n",
    "1. live code\n",
    "2. visualisations\n",
    "3. narrative text\n",
    "\n",
    "This notebook builds on [HZZAnalysis.ipynb](https://github.com/atlas-outreach-data-tools/notebooks-collection-opendata/blob/master/13-TeV-examples/uproot_python/HZZAnalysis.ipynb) in the same folder as this notebook. \n",
    "\n",
    "HZZAnalysis.ipynb loosely follows the [discovery of the Higgs boson by ATLAS](https://www.sciencedirect.com/science/article/pii/S037026931200857X) (mostly Section 4 and 4.1)\n",
    "\n",
    "Notebooks are a perfect platform to develop Machine Learning for your work, since you'll need exactly those 3 things: code, visualisations and narrative text!\n",
    "\n",
    "We're interested in Machine Learning because we can design an algorithm to figure out for itself how to do various analyses, potentially saving us countless human-hours of design and analysis work.\n",
    "\n",
    "Machine Learning use within ATLAS includes: \n",
    "* particle tracking\n",
    "* particle identification\n",
    "* signal/background classification\n",
    "* and more!\n",
    "\n",
    "This notebook will focus on signal/background classification.\n",
    "\n",
    "By the end of this notebook you will be able to:\n",
    "1. run a Boosted Decision Tree to classify signal and background\n",
    "2. know some things you can change to improve your Boosted Decision Tree\n",
    "\n",
    "Feynman diagram pictures are borrowed from our friends at https://www.particlezoo.net"
   ]
  },
  {
   "cell_type": "markdown",
   "metadata": {},
   "source": [
    "<CENTER><img src=\"images/feynman_diagrams/HZZ_feynman.png\" style=\"width:40%\"></CENTER>"
   ]
  },
  {
   "cell_type": "markdown",
   "metadata": {},
   "source": [
    "<a id='contents'></a>"
   ]
  },
  {
   "cell_type": "markdown",
   "metadata": {},
   "source": [
    "Contents: \n",
    "\n",
    "[Running a Jupyter notebook](#running) <br />\n",
    "[First time setup on your computer (no need on mybinder)](#setup_computer) <br />\n",
    "[To setup everytime](#setup_everytime) <br />\n",
    "[Lumi, fraction, file path](#fraction) <br />\n",
    "[Samples](#samples) <br />\n",
    "[Changing a cut](#changing_cut) <br />\n",
    "[Applying a cut](#applying_cut) <br />\n",
    "[Optimisation](#optimisation) <br />\n",
    "[Boosted Decision Tree (BDT)](#BDT) <br />\n",
    "  [Training and Testing split](#train_test) <br />\n",
    "  [Training Decision Trees](#training) <br />\n",
    "  [Assessing a Classifier's Performance](#performance) <br />\n",
    "  [Receiver Operating Characteristic (ROC) curve](#ROC) <br />\n",
    "  [Overtraining check](#overtraining) <br />\n",
    "  [Optimisation](#BDT_optimisation) <br />\n",
    "[Going further](#going_further) <br />"
   ]
  },
  {
   "cell_type": "markdown",
   "metadata": {},
   "source": [
    "<a id='running'></a>"
   ]
  },
  {
   "cell_type": "markdown",
   "metadata": {},
   "source": [
    "## Running a Jupyter notebook\n",
    "\n",
    "To run the whole Jupyter notebook, in the top menu click Cell -> Run All.\n",
    "\n",
    "To propagate a change you've made to a piece of code, click Cell -> Run All Below.\n",
    "\n",
    "You can also run a single code cell, by clicking Cell -> Run Cells, or using the keyboard shortcut Shift+Enter."
   ]
  },
  {
   "cell_type": "markdown",
   "metadata": {},
   "source": [
    "<a id='setup_computer'></a>"
   ]
  },
  {
   "cell_type": "markdown",
   "metadata": {},
   "source": [
    "## "
   ]
  },
  {
   "cell_type": "code",
   "execution_count": 1,
   "metadata": {},
   "outputs": [
    {
     "name": "stdout",
     "output_type": "stream",
     "text": [
      "/home/ryan/Documents/Polaris_2024\n"
     ]
    }
   ],
   "source": [
    "import os\n",
    "print(os.getcwd())"
   ]
  },
  {
   "cell_type": "markdown",
   "metadata": {},
   "source": [
    "First time setup on your computer (no need on mybinder)\n",
    "This first cell only needs to be run the first time you open this notebook on your computer. \n",
    "\n",
    "If you close Jupyter and re-open on the same computer, you won't need to run this first cell again.\n",
    "\n",
    "If you open on mybinder, you don't need to run this cell."
   ]
  },
  {
   "cell_type": "code",
   "execution_count": 2,
   "metadata": {},
   "outputs": [
    {
     "name": "stdout",
     "output_type": "stream",
     "text": [
      "\u001b[31mERROR: Can not perform a '--user' install. User site-packages are not visible in this virtualenv.\u001b[0m\u001b[31m\n",
      "\u001b[0mRequirement already satisfied: uproot3==3.14.4 in /home/ryan/.local/pipx/venvs/jupyterlab/lib/python3.11/site-packages (3.14.4)\n",
      "Requirement already satisfied: pandas==1.4.4 in /home/ryan/.local/pipx/venvs/jupyterlab/lib/python3.11/site-packages (1.4.4)\n",
      "Requirement already satisfied: numpy==1.26.4 in /home/ryan/.local/pipx/venvs/jupyterlab/lib/python3.11/site-packages (1.26.4)\n",
      "Requirement already satisfied: matplotlib==3.8.3 in /home/ryan/.local/pipx/venvs/jupyterlab/lib/python3.11/site-packages (3.8.3)\n",
      "Requirement already satisfied: scikit-learn==1.4.1.post1 in /home/ryan/.local/pipx/venvs/jupyterlab/lib/python3.11/site-packages (1.4.1.post1)\n",
      "Requirement already satisfied: awkward0 in /home/ryan/.local/pipx/venvs/jupyterlab/lib/python3.11/site-packages (from uproot3==3.14.4) (0.15.5)\n",
      "Requirement already satisfied: uproot3-methods in /home/ryan/.local/pipx/venvs/jupyterlab/lib/python3.11/site-packages (from uproot3==3.14.4) (0.10.1)\n",
      "Requirement already satisfied: cachetools in /home/ryan/.local/pipx/venvs/jupyterlab/lib/python3.11/site-packages (from uproot3==3.14.4) (5.3.3)\n",
      "Requirement already satisfied: python-dateutil>=2.8.1 in /home/ryan/.local/pipx/venvs/jupyterlab/lib/python3.11/site-packages (from pandas==1.4.4) (2.9.0.post0)\n",
      "Requirement already satisfied: pytz>=2020.1 in /home/ryan/.local/pipx/venvs/jupyterlab/lib/python3.11/site-packages (from pandas==1.4.4) (2024.1)\n",
      "Requirement already satisfied: contourpy>=1.0.1 in /home/ryan/.local/pipx/venvs/jupyterlab/lib/python3.11/site-packages (from matplotlib==3.8.3) (1.2.0)\n",
      "Requirement already satisfied: cycler>=0.10 in /home/ryan/.local/pipx/venvs/jupyterlab/lib/python3.11/site-packages (from matplotlib==3.8.3) (0.12.1)\n",
      "Requirement already satisfied: fonttools>=4.22.0 in /home/ryan/.local/pipx/venvs/jupyterlab/lib/python3.11/site-packages (from matplotlib==3.8.3) (4.50.0)\n",
      "Requirement already satisfied: kiwisolver>=1.3.1 in /home/ryan/.local/pipx/venvs/jupyterlab/lib/python3.11/site-packages (from matplotlib==3.8.3) (1.4.5)\n",
      "Requirement already satisfied: packaging>=20.0 in /home/ryan/.local/pipx/venvs/jupyterlab/lib/python3.11/site-packages (from matplotlib==3.8.3) (24.0)\n",
      "Requirement already satisfied: pillow>=8 in /home/ryan/.local/pipx/venvs/jupyterlab/lib/python3.11/site-packages (from matplotlib==3.8.3) (10.3.0)\n",
      "Requirement already satisfied: pyparsing>=2.3.1 in /home/ryan/.local/pipx/venvs/jupyterlab/lib/python3.11/site-packages (from matplotlib==3.8.3) (3.1.2)\n",
      "Requirement already satisfied: scipy>=1.6.0 in /home/ryan/.local/pipx/venvs/jupyterlab/lib/python3.11/site-packages (from scikit-learn==1.4.1.post1) (1.12.0)\n",
      "Requirement already satisfied: joblib>=1.2.0 in /home/ryan/.local/pipx/venvs/jupyterlab/lib/python3.11/site-packages (from scikit-learn==1.4.1.post1) (1.3.2)\n",
      "Requirement already satisfied: threadpoolctl>=2.0.0 in /home/ryan/.local/pipx/venvs/jupyterlab/lib/python3.11/site-packages (from scikit-learn==1.4.1.post1) (3.4.0)\n",
      "Requirement already satisfied: six>=1.5 in /home/ryan/.local/pipx/venvs/jupyterlab/lib/python3.11/site-packages (from python-dateutil>=2.8.1->pandas==1.4.4) (1.16.0)\n"
     ]
    }
   ],
   "source": [
    "import sys\n",
    "!{sys.executable} -m pip install --upgrade --user pip # update the pip package installer\n",
    "!{sys.executable} -m pip install uproot3==3.14.4 pandas==1.4.4 numpy==1.26.4 matplotlib==3.8.3 scikit-learn==1.4.1.post1  # install required packages"
   ]
  },
  {
   "cell_type": "markdown",
   "metadata": {},
   "source": [
    "[Back to contents](#contents)"
   ]
  },
  {
   "cell_type": "markdown",
   "metadata": {},
   "source": [
    "<a id='setup_everytime'></a>"
   ]
  },
  {
   "cell_type": "markdown",
   "metadata": {},
   "source": [
    "## To setup everytime\n",
    "Cell -> Run All Below\n",
    "\n",
    "to be done every time you re-open this notebook.\n",
    "\n",
    "We're going to be using a number of tools to help us:\n",
    "* uproot: lets us read .root files typically used in particle physics into data formats used in Machine Learning\n",
    "* pandas: lets us store data as dataframes, a format widely used in Machine Learning\n",
    "* numpy: provides numerical calculations such as histogramming\n",
    "* matplotlib: common tool for making plots, figures, images, visualisations"
   ]
  },
  {
   "cell_type": "code",
   "execution_count": 3,
   "metadata": {},
   "outputs": [],
   "source": [
    "import pickle\n",
    "import uproot3 # for reading .root files\n",
    "import pandas as pd # to store data as dataframe\n",
    "import time # to measure time to analyse\n",
    "import math # for mathematical functions such as square root\n",
    "import numpy as np # # for numerical calculations such as histogramming\n",
    "import matplotlib.pyplot as plt # for plotting\n",
    "from matplotlib.ticker import AutoMinorLocator # for minor ticks\n",
    "\n",
    "import infofile # local file containing info on cross-sections, sums of weights, dataset IDs"
   ]
  },
  {
   "cell_type": "markdown",
   "metadata": {},
   "source": [
    "[Back to contents](#contents)"
   ]
  },
  {
   "cell_type": "markdown",
   "metadata": {},
   "source": [
    "<a id='fraction'></a>"
   ]
  },
  {
   "cell_type": "markdown",
   "metadata": {},
   "source": [
    "## Lumi, fraction, file path\n",
    "\n",
    "General definitions of fraction of data used, where to access the input files"
   ]
  },
  {
   "cell_type": "code",
   "execution_count": 4,
   "metadata": {},
   "outputs": [],
   "source": [
    "lumi = 1 # fb-1 # data_A+B+C+D\n",
    "\n",
    "fraction = 0.01 # reduce this is you want the code to run quicker\n",
    "                                                                                                                                  \n",
    "#tuple_path = \"Input/4lep/\" # local \n",
    "tuple_path = \"https://atlas-opendata.web.cern.ch/atlas-opendata/samples/2020/4lep/\" # web address"
   ]
  },
  {
   "cell_type": "markdown",
   "metadata": {},
   "source": [
    "<a id='samples'></a>"
   ]
  },
  {
   "cell_type": "markdown",
   "metadata": {},
   "source": [
    "## Samples\n",
    "\n",
    "In this notebook we only process the signal <span style=\"color:blue\">H->ZZ</span> and the main background <span style=\"color:red\">ZZ</span>, for illustration purposes. You can add data and the Z and ttbar <span style=\"color:red\">backgrounds</span> after if you wish."
   ]
  },
  {
   "cell_type": "code",
   "execution_count": 5,
   "metadata": {},
   "outputs": [],
   "source": [
    "samples = {\n",
    "\n",
    "    'ZZ' : {\n",
    "        'list' : ['llll']\n",
    "    },\n",
    "\n",
    "    r'$H \\rightarrow ZZ \\rightarrow \\ell\\ell\\ell\\ell$' : { # H -> ZZ -> llll\n",
    "        'list' : ['ggH125_ZZ4lep'] # gluon-gluon fusion\n",
    "    }\n",
    "\n",
    "}"
   ]
  },
  {
   "cell_type": "markdown",
   "metadata": {},
   "source": [
    "[Back to contents](#contents)"
   ]
  },
  {
   "cell_type": "markdown",
   "metadata": {},
   "source": [
    "Define function to get data from files.\n",
    "\n",
    "The datasets used in this notebook have already been filtered to include at least 4 leptons per event, so that processing is quicker."
   ]
  },
  {
   "cell_type": "code",
   "execution_count": 6,
   "metadata": {},
   "outputs": [],
   "source": [
    "def get_data_from_files():\n",
    "\n",
    "    data = {} # define empty dictionary to hold dataframes\n",
    "    for s in samples: # loop over samples\n",
    "        print('Processing '+s+' samples') # print which sample\n",
    "        frames = [] # define empty list to hold data\n",
    "        for val in samples[s]['list']: # loop over each file\n",
    "            if s == 'data': prefix = \"Data/\" # Data prefix\n",
    "            else: # MC prefix\n",
    "                prefix = \"MC/mc_\"+str(infofile.infos[val][\"DSID\"])+\".\"\n",
    "            fileString = tuple_path+prefix+val+\".4lep.root\" # file name to open\n",
    "            temp = read_file(fileString,val) # call the function read_file defined below\n",
    "            frames.append(temp) # append dataframe returned from read_file to list of dataframes\n",
    "        data[s] = pd.concat(frames) # dictionary entry is concatenated dataframes\n",
    "    \n",
    "    return data # return dictionary of dataframes"
   ]
  },
  {
   "cell_type": "markdown",
   "metadata": {},
   "source": [
    "[Back to contents](#contents)"
   ]
  },
  {
   "cell_type": "markdown",
   "metadata": {},
   "source": [
    "define function to get cross-section weight"
   ]
  },
  {
   "cell_type": "code",
   "execution_count": 7,
   "metadata": {},
   "outputs": [],
   "source": [
    "def get_xsec_weight(sample):\n",
    "    info = infofile.infos[sample] # open infofile\n",
    "    xsec_weight = (lumi*1000*info[\"xsec\"])/(info[\"sumw\"]*info[\"red_eff\"]) #*1000 to go from fb-1 to pb-1\n",
    "    return xsec_weight # return cross-section weight"
   ]
  },
  {
   "cell_type": "markdown",
   "metadata": {},
   "source": [
    "define function to calculate weight of MC event"
   ]
  },
  {
   "cell_type": "code",
   "execution_count": 8,
   "metadata": {},
   "outputs": [],
   "source": [
    "def calc_weight(xsec_weight, mcWeight, scaleFactor_PILEUP,\n",
    "                scaleFactor_ELE, scaleFactor_MUON, \n",
    "                scaleFactor_LepTRIGGER ):\n",
    "    return xsec_weight*mcWeight*scaleFactor_PILEUP*scaleFactor_ELE*scaleFactor_MUON*scaleFactor_LepTRIGGER"
   ]
  },
  {
   "cell_type": "markdown",
   "metadata": {},
   "source": [
    "We add functions to return the individual lepton transverse momenta, in GeV"
   ]
  },
  {
   "cell_type": "code",
   "execution_count": 9,
   "metadata": {},
   "outputs": [],
   "source": [
    "def calc_lep_pt_i(lep_pt,i):\n",
    "    return lep_pt[i]/1000 # /1000 to go from MeV to GeV"
   ]
  },
  {
   "cell_type": "markdown",
   "metadata": {},
   "source": [
    "[Back to contents](#contents)"
   ]
  },
  {
   "cell_type": "markdown",
   "metadata": {},
   "source": [
    "<a id='changing_cut'></a>"
   ]
  },
  {
   "cell_type": "markdown",
   "metadata": {},
   "source": [
    "## Changing a cut\n",
    "\n",
    "We apply 'cuts' to throw away collisions that have properties different to the signal we're looking for.\n",
    "\n",
    "If you change a cut: Cell -> Run All Below\n",
    "\n",
    "If you change a cut here, you also need to make sure the cut is applied in the \"[Applying a cut](#applying_cut)\" cell."
   ]
  },
  {
   "cell_type": "code",
   "execution_count": 10,
   "metadata": {},
   "outputs": [],
   "source": [
    "# cut on lepton charge\n",
    "# paper: \"selecting two pairs of isolated leptons, each of which is comprised of two leptons with the same flavour and opposite charge\"\n",
    "def cut_lep_charge(lep_charge):\n",
    "# throw away when sum of lepton charges is not equal to 0\n",
    "# first lepton is [0], 2nd lepton is [1] etc\n",
    "    return lep_charge[0] + lep_charge[1] + lep_charge[2] + lep_charge[3] != 0\n",
    "\n",
    "# cut on lepton type\n",
    "# paper: \"selecting two pairs of isolated leptons, each of which is comprised of two leptons with the same flavour and opposite charge\"\n",
    "def cut_lep_type(lep_type):\n",
    "# for an electron lep_type is 11\n",
    "# for a muon lep_type is 13\n",
    "# throw away when none of eeee, mumumumu, eemumu\n",
    "    sum_lep_type = lep_type[0] + lep_type[1] + lep_type[2] + lep_type[3]\n",
    "    return (sum_lep_type != 44) and (sum_lep_type != 48) and (sum_lep_type != 52)"
   ]
  },
  {
   "cell_type": "code",
   "execution_count": 34,
   "metadata": {},
   "outputs": [],
   "source": [
    "def calc_mllll(lep_pt, lep_eta, lep_phi, lep_E):\n",
    "    # construct awkward 4-vector array\n",
    "    p4 = vector.zip({\"pt\": lep_pt, \"eta\": lep_eta, \"phi\": lep_phi, \"E\": lep_E})\n",
    "    # calculate invariant mass of first 4 leptons\n",
    "    # [:, i] selects the i-th lepton in each event\n",
    "    # .M calculates the invariant mass\n",
    "    return (p4[:, 0] + p4[:, 1] + p4[:, 2] + p4[:, 3]).M * MeV"
   ]
  },
  {
   "cell_type": "markdown",
   "metadata": {},
   "source": [
    "[Back to contents](#contents)"
   ]
  },
  {
   "cell_type": "markdown",
   "metadata": {},
   "source": [
    "<a id='applying_cut'></a>"
   ]
  },
  {
   "cell_type": "markdown",
   "metadata": {},
   "source": [
    "## Applying a cut\n",
    "If you add a cut: Cell -> Run All Below"
   ]
  },
  {
   "cell_type": "code",
   "execution_count": 36,
   "metadata": {},
   "outputs": [],
   "source": [
    "def read_file(path,sample):\n",
    "    start = time.time() # start the clock\n",
    "    print(\"\\tProcessing: \"+sample) # print which sample is being processed\n",
    "    data_all = pd.DataFrame() # define empty pandas DataFrame to hold all data for this sample\n",
    "    tree = uproot3.open(path)[\"mini\"] # open the tree called mini\n",
    "    numevents = uproot3.numentries(path, \"mini\") # number of events\n",
    "    if 'data' not in sample: xsec_weight = get_xsec_weight(sample) # get cross-section weight\n",
    "    for data in tree.iterate(['lep_charge','lep_type','lep_pt',\n",
    "                              # uncomment these variables if you want to calculate masses \n",
    "                              'lep_eta','lep_phi','lep_E', \n",
    "                              # add more variables here if you make cuts on them \n",
    "                              'mcWeight','scaleFactor_PILEUP',\n",
    "                              'scaleFactor_ELE','scaleFactor_MUON',\n",
    "                              'scaleFactor_LepTRIGGER'\n",
    "                             ], # variables to calculate Monte Carlo weight\n",
    "                             outputtype=pd.DataFrame, # choose output type as pandas DataFrame\n",
    "                             entrystop=numevents*fraction): # process up to numevents*fraction\n",
    "\n",
    "        nIn = len(data.index) # number of events in this batch\n",
    "\n",
    "        if 'data' not in sample: # only do this for Monte Carlo simulation files\n",
    "            # multiply all Monte Carlo weights and scale factors together to give total weight\n",
    "            data['totalWeight'] = np.vectorize(calc_weight)(xsec_weight,\n",
    "                                                            data.mcWeight,\n",
    "                                                            data.scaleFactor_PILEUP,\n",
    "                                                            data.scaleFactor_ELE,\n",
    "                                                            data.scaleFactor_MUON,\n",
    "                                                            data.scaleFactor_LepTRIGGER)\n",
    "\n",
    "        # cut on lepton charge using the function cut_lep_charge defined above\n",
    "        #fail = data[ np.vectorize(cut_lep_charge)(data.lep_charge) ].index\n",
    "        #data.drop(fail, inplace=True)\n",
    "\n",
    "        # cut on lepton type using the function cut_lep_type defined above\n",
    "        #fail = data[ np.vectorize(cut_lep_type)(data.lep_type) ].index\n",
    "        #data.drop(fail, inplace=True)\n",
    "\n",
    "        # return the individual lepton transverse momenta in GeV\n",
    "        data['lep_pt_1'] = np.vectorize(calc_lep_pt_i)(data.lep_pt,1)\n",
    "        data['lep_pt_2'] = np.vectorize(calc_lep_pt_i)(data.lep_pt,2)\n",
    "        \n",
    "        # dataframe contents can be printed at any stage like this\n",
    "        #print(data)\n",
    "\n",
    "        # dataframe column can be printed at any stage like this\n",
    "        #print(data['lep_pt'])\n",
    "\n",
    "        # multiple dataframe columns can be printed at any stage like this\n",
    "        #print(data[['lep_pt','lep_eta']])\n",
    "\n",
    "        nOut = len(data.index) # number of events passing cuts in this batch\n",
    "        data_all = data_all.append(data) # append dataframe from this batch to the dataframe for the whole sample\n",
    "        elapsed = time.time() - start # time taken to process\n",
    "        print(\"\\t\\t nIn: \"+str(nIn)+\",\\t nOut: \\t\"+str(nOut)+\"\\t in \"+str(round(elapsed,1))+\"s\") # events before and after\n",
    "    \n",
    "    return data_all # return dataframe containing events passing all cuts\n"
   ]
  },
  {
   "cell_type": "markdown",
   "metadata": {},
   "source": [
    "[Back to contents](#contents)"
   ]
  },
  {
   "cell_type": "markdown",
   "metadata": {},
   "source": [
    "This is where the processing happens (this will take some minutes)"
   ]
  },
  {
   "cell_type": "code",
   "execution_count": 12,
   "metadata": {},
   "outputs": [
    {
     "name": "stdout",
     "output_type": "stream",
     "text": [
      "1.4.4\n"
     ]
    }
   ],
   "source": [
    "print(pd.__version__)"
   ]
  },
  {
   "cell_type": "code",
   "execution_count": 13,
   "metadata": {},
   "outputs": [
    {
     "name": "stdout",
     "output_type": "stream",
     "text": [
      "Processing ZZ samples\n",
      "\tProcessing: llll\n"
     ]
    },
    {
     "name": "stderr",
     "output_type": "stream",
     "text": [
      "/tmp/ipykernel_192654/4175035339.py:52: FutureWarning: The frame.append method is deprecated and will be removed from pandas in a future version. Use pandas.concat instead.\n",
      "  data_all = data_all.append(data) # append dataframe from this batch to the dataframe for the whole sample\n"
     ]
    },
    {
     "name": "stdout",
     "output_type": "stream",
     "text": [
      "\t\t nIn: 5542,\t nOut: \t5542\t in 236.7s\n",
      "Processing $H \\rightarrow ZZ \\rightarrow \\ell\\ell\\ell\\ell$ samples\n",
      "\tProcessing: ggH125_ZZ4lep\n",
      "\t\t nIn: 1647,\t nOut: \t1647\t in 581.3s\n",
      "Time taken: 818.0s\n"
     ]
    },
    {
     "name": "stderr",
     "output_type": "stream",
     "text": [
      "/tmp/ipykernel_192654/4175035339.py:52: FutureWarning: The frame.append method is deprecated and will be removed from pandas in a future version. Use pandas.concat instead.\n",
      "  data_all = data_all.append(data) # append dataframe from this batch to the dataframe for the whole sample\n"
     ]
    }
   ],
   "source": [
    "start = time.time() # time at start of whole processing\n",
    "data = get_data_from_files() # process all files\n",
    "elapsed = time.time() - start # time after whole processing\n",
    "print(\"Time taken: \"+str(round(elapsed,1))+\"s\") # print total time taken to process every file"
   ]
  },
  {
   "cell_type": "markdown",
   "metadata": {},
   "source": [
    "[Back to contents](#contents)"
   ]
  },
  {
   "cell_type": "markdown",
   "metadata": {},
   "source": [
    "<a id='optimisation'></a>"
   ]
  },
  {
   "cell_type": "markdown",
   "metadata": {},
   "source": [
    "## Optimisation\n",
    "\n",
    "Here we define histograms for the variables that we'll look to optimise"
   ]
  },
  {
   "cell_type": "code",
   "execution_count": 14,
   "metadata": {},
   "outputs": [],
   "source": [
    "lep_pt_2 = { # dictionary containing plotting parameters for the lep_pt_2 histogram\n",
    "    # change plotting parameters\n",
    "    'bin_width':1, # width of each histogram bin\n",
    "    'num_bins':13, # number of histogram bins\n",
    "    'xrange_min':7, # minimum on x-axis\n",
    "    'xlabel':r'$lep\\_pt$[2] [GeV]', # x-axis label\n",
    "}\n",
    "\n",
    "lep_pt_1 = { # dictionary containing plotting parameters for the lep_pt_1 histogram\n",
    "    # change plotting parameters\n",
    "    'bin_width':1, # width of each histogram bin\n",
    "    'num_bins':28, # number of histogram bins\n",
    "    'xrange_min':7, # minimum on x-axis\n",
    "    'xlabel':r'$lep\\_pt$[1] [GeV]', # x-axis label\n",
    "}\n",
    "\n",
    "SoverB_hist_dict = {'lep_pt_2':lep_pt_2,'lep_pt_1':lep_pt_1} \n",
    "# add a histogram here if you want it plotted"
   ]
  },
  {
   "cell_type": "markdown",
   "metadata": {},
   "source": [
    "[Back to contents](#contents)"
   ]
  },
  {
   "cell_type": "markdown",
   "metadata": {},
   "source": [
    "Here we define a function to illustrate the optimum cut value on individual variables, based on <span style=\"color:blue\">signal</span> to <span style=\"color:red\">background</span> ratio."
   ]
  },
  {
   "cell_type": "code",
   "execution_count": 15,
   "metadata": {},
   "outputs": [],
   "source": [
    "def plot_SoverB(data):\n",
    "    \n",
    "    signal = r'$H \\rightarrow ZZ \\rightarrow \\ell\\ell\\ell\\ell$' # which sample is the signal\n",
    "\n",
    "    # *******************\n",
    "    # general definitions (shouldn't need to change)\n",
    "\n",
    "    for x_variable,hist in SoverB_hist_dict.items(): # access the dictionary of histograms defined in the cell above\n",
    "\n",
    "        h_bin_width = hist['bin_width'] # get the bin width defined in the cell above\n",
    "        h_num_bins = hist['num_bins'] # get the number of bins defined in the cell above\n",
    "        h_xrange_min = hist['xrange_min'] # get the x-range minimum defined in the cell above\n",
    "        h_xlabel = hist['xlabel'] # get the x-axis label defined in the cell above\n",
    "    \n",
    "        bin_edges = [ h_xrange_min + x*h_bin_width for x in range(h_num_bins+1) ] # bin limits\n",
    "        bin_centres = [ h_xrange_min+h_bin_width/2 + x*h_bin_width for x in range(h_num_bins) ] # bin centres\n",
    "        \n",
    "        signal_x = data[signal][x_variable] # histogram the signal\n",
    "    \n",
    "        mc_x = [] # define list to hold the Monte Carlo histogram entries\n",
    "\n",
    "        for s in samples: # loop over samples\n",
    "            if s not in ['data', signal]: # if not data nor signal\n",
    "                mc_x = [*mc_x, *data[s][x_variable] ] # append to the list of Monte Carlo histogram entries\n",
    "\n",
    "    \n",
    "    \n",
    "        # *************\n",
    "        # Signal and background distributions\n",
    "        # *************\n",
    "        distributions_axes = plt.gca() # get current axes\n",
    " \n",
    "        mc_heights = distributions_axes.hist(mc_x, bins=bin_edges, color='red', \n",
    "                                             label='Total background',\n",
    "                                             histtype='step', # lineplot that's unfilled\n",
    "                                             density=True ) # normalize to form probability density\n",
    "        signal_heights = distributions_axes.hist(signal_x, bins=bin_edges, color='blue',\n",
    "                                                 label=signal, \n",
    "                                                 histtype='step', # lineplot that's unfilled\n",
    "                                                 density=True, # normalize to form probability density\n",
    "                                                 linestyle='--' ) # dashed line\n",
    "        \n",
    "        distributions_axes.set_xlim( left=bin_edges[0], right=bin_edges[-1] ) # x-limits of the distributions axes\n",
    "        distributions_axes.set_ylabel('Arbitrary units' ) # y-axis label for distributions axes\n",
    "        distributions_axes.set_ylim( top=max(signal_heights[0])*1.3 ) # set y-axis limits\n",
    "        plt.title('Signal and background '+x_variable+' distributions') # add title\n",
    "        distributions_axes.legend() # draw the legend\n",
    "        distributions_axes.set_xlabel( h_xlabel ) # x-axis label\n",
    "        \n",
    "        # Add text 'ATLAS Open Data' on plot\n",
    "        plt.text(0.05, # x\n",
    "                 0.93, # y\n",
    "                 'ATLAS Open Data', # text\n",
    "                 transform=distributions_axes.transAxes, # coordinate system used is that of distributions_axes\n",
    "                 fontsize=13 ) \n",
    "        # Add text 'for education' on plot\n",
    "        plt.text(0.05, # x\n",
    "                 0.88, # y\n",
    "                 'for education', # text\n",
    "                 transform=distributions_axes.transAxes, # coordinate system used is that of distributions_axes\n",
    "                 style='italic',\n",
    "                 fontsize=8 )  \n",
    "    \n",
    "        plt.show() # show the Signal and background distributions\n",
    "    \n",
    "    \n",
    "        # *************\n",
    "        # Signal to background ratio\n",
    "        # *************\n",
    "        plt.figure() # start new figure\n",
    "        SoverB = [] # list to hold S/B values\n",
    "        for cut_value in bin_edges: # loop over bins\n",
    "            signal_weights_passing_cut = sum(data[signal][data[signal][x_variable]>cut_value].totalWeight)\n",
    "            background_weights_passing_cut = 0 # start counter for background weights passing cut\n",
    "            for s in samples: # loop over samples\n",
    "                if s not in ['data', signal]: # if not data nor signal\n",
    "                    background_weights_passing_cut += sum(data[s][data[s][x_variable]>cut_value].totalWeight)\n",
    "            if background_weights_passing_cut!=0: # some background passes cut\n",
    "                SoverB_value = signal_weights_passing_cut/background_weights_passing_cut\n",
    "                SoverB_percent = 100*SoverB_value # multiply by 100 for percentage\n",
    "                SoverB.append(SoverB_percent) # append to list of S/B values\n",
    "        \n",
    "        SoverB_axes = plt.gca() # get current axes\n",
    "        SoverB_axes.plot( bin_edges[:len(SoverB)], SoverB ) # plot the data points\n",
    "        SoverB_axes.set_xlim( left=bin_edges[0], right=bin_edges[-1] ) # set the x-limit of the main axes\n",
    "        SoverB_axes.set_ylabel( 'S/B (%)' ) # write y-axis label for main axes\n",
    "        plt.title('Signal to background ratio for different '+x_variable+' cut values', family='sans-serif')\n",
    "        SoverB_axes.set_xlabel( h_xlabel ) # x-axis label \n",
    "        \n",
    "        plt.show() # show S/B plot\n",
    "    \n",
    "    return"
   ]
  },
  {
   "cell_type": "markdown",
   "metadata": {},
   "source": [
    "[Back to contents](#contents)"
   ]
  },
  {
   "cell_type": "markdown",
   "metadata": {},
   "source": [
    "Here we call our function to illustrate the optimum cut value on individual variables, based on <span style=\"color:blue\">signal</span> to <span style=\"color:red\">background</span> ratio.\n",
    "\n",
    "We're not doing any Machine Learning yet! We're looking at the variables we'll later use for Machine Learning.\n",
    "\n",
    "Let's talk through the lep_pt_2 plots.\n",
    "1. Imagine placing a cut at 7 GeV in the distributions of <span style=\"color:blue\">signal</span> and <span style=\"color:red\">background</span> (1st plot). This means keeping all events above 7 GeV in the <span style=\"color:blue\">signal</span> and <span style=\"color:red\">background</span> histograms. \n",
    "2. We then take the ratio of the number of <span style=\"color:blue\">signal</span> events that pass this cut, to the number of <span style=\"color:red\">background</span> events that pass this cut. This gives us a starting value for S/B (2nd plot). \n",
    "3. We then increase this cut value to 8 GeV, 9 GeV, 10 GeV, 11 GeV, 12 GeV. Cuts at these values are throwing away more <span style=\"color:red\">background</span> than <span style=\"color:blue\">signal</span>, so S/B increases. \n",
    "4. There comes a point around 13 GeV where we start throwing away too much <span style=\"color:blue\">signal</span>, thus S/B starts to decrease. \n",
    "5. Our goal is to find the maximum in S/B, and place the cut there.\n",
    "\n",
    "The same logic applies to lep_pt_1."
   ]
  },
  {
   "cell_type": "code",
   "execution_count": 16,
   "metadata": {},
   "outputs": [
    {
     "data": {
      "image/png": "[encoded data removed]",
      "text/plain": [
       "<Figure size 640x480 with 1 Axes>"
      ]
     },
     "metadata": {},
     "output_type": "display_data"
    },
    {
     "data": {
      "image/png": "[encoded data removed]",
      "text/plain": [
       "<Figure size 640x480 with 1 Axes>"
      ]
     },
     "metadata": {},
     "output_type": "display_data"
    },
    {
     "data": {
      "image/png": "[encoded data removed]",
      "text/plain": [
       "<Figure size 640x480 with 1 Axes>"
      ]
     },
     "metadata": {},
     "output_type": "display_data"
    },
    {
     "data": {
      "image/png": "[encoded data removed]",
      "text/plain": [
       "<Figure size 640x480 with 1 Axes>"
      ]
     },
     "metadata": {},
     "output_type": "display_data"
    }
   ],
   "source": [
    "plot_SoverB(data)"
   ]
  },
  {
   "cell_type": "markdown",
   "metadata": {},
   "source": [
    "[Back to contents](#contents)"
   ]
  },
  {
   "cell_type": "markdown",
   "metadata": {},
   "source": [
    "In the [ATLAS Higgs discovery paper](https://www.sciencedirect.com/science/article/pii/S037026931200857X), there are a number of numerical cuts applied, not just on lep_pt_1 and lep_pt_2.\n",
    "\n",
    "Imagine having to separately optimise about 7 variables! Not to mention that applying a cut on one variable could change the distribution of another, which would mean you'd have to re-optimise... Nightmare.\n",
    "\n",
    "This is where a Machine Learning algorithm such as a Boosted Decision Tree (BDT) can come to the rescue. A BDT can optimise all variables at the same time.\n",
    "\n",
    "A BDT not only optimises cuts, but can find correlations in many dimensions that will give better signal/background classification than individual cuts ever could.\n",
    "\n",
    "That's the end of the introduction to why one might want to use a BDT. If you'd like to try using one, just keep reading below!"
   ]
  },
  {
   "cell_type": "markdown",
   "metadata": {},
   "source": [
    "<a id='BDT'></a>"
   ]
  },
  {
   "cell_type": "markdown",
   "metadata": {},
   "source": [
    "## Boosted Decision Tree (BDT)\n",
    "\n",
    "Choose variables for use in the BDT"
   ]
  },
  {
   "cell_type": "code",
   "execution_count": 17,
   "metadata": {},
   "outputs": [
    {
     "data": {
      "text/plain": [
       "{'ZZ':          lep_pt_1   lep_pt_2\n",
       " entry                       \n",
       " 0       61.677957  48.666441\n",
       " 1       41.498750  18.562252\n",
       " 2       78.250461  56.973090\n",
       " 3       26.851668  13.466778\n",
       " 4       98.566398  74.528453\n",
       " ...           ...        ...\n",
       " 5537    82.193586  55.987336\n",
       " 5538    78.906844  56.548809\n",
       " 5539   116.852937  51.460316\n",
       " 5540    15.847790  12.454036\n",
       " 5541    44.420570  13.333565\n",
       " \n",
       " [5542 rows x 2 columns],\n",
       " '$H \\\\rightarrow ZZ \\\\rightarrow \\\\ell\\\\ell\\\\ell\\\\ell$':         lep_pt_1   lep_pt_2\n",
       " entry                      \n",
       " 0      41.248570  16.397670\n",
       " 1      40.307168  16.133789\n",
       " 2      27.313271  20.035949\n",
       " 3      27.845740  17.726541\n",
       " 4      53.367754  25.596689\n",
       " ...          ...        ...\n",
       " 1642   30.058990  10.657160\n",
       " 1643   32.505592  24.748859\n",
       " 1644   38.093594  17.909732\n",
       " 1645   45.366996  19.698824\n",
       " 1646   51.930445  37.869605\n",
       " \n",
       " [1647 rows x 2 columns]}"
      ]
     },
     "execution_count": 17,
     "metadata": {},
     "output_type": "execute_result"
    }
   ],
   "source": [
    "data_for_BDT = {} # define empty dictionary to hold dataframes that will be used to train the BDT\n",
    "BDT_inputs = ['lep_pt_1','lep_pt_2'] # list of features for BDT\n",
    "for key in data: # loop over the different keys in the dictionary of dataframes\n",
    "    data_for_BDT[key] = data[key][BDT_inputs].copy()\n",
    "data_for_BDT"
   ]
  },
  {
   "cell_type": "markdown",
   "metadata": {},
   "source": [
    "[Back to contents](#contents)"
   ]
  },
  {
   "cell_type": "markdown",
   "metadata": {},
   "source": [
    " Organise data ready for the BDT"
   ]
  },
  {
   "cell_type": "code",
   "execution_count": 18,
   "metadata": {},
   "outputs": [],
   "source": [
    "# for sklearn data is usually organised                                                                                                                                           \n",
    "# into one 2D array of shape (n_samples x n_features)                                                                                                                             \n",
    "# containing all the data and one array of categories                                                                                                                             \n",
    "# of length n_samples  \n",
    "\n",
    "all_MC = [] # define empty list that will contain all features for the MC\n",
    "for key in data: # loop over the different keys in the dictionary of dataframes\n",
    "    if key!='data': # only MC should pass this\n",
    "        all_MC.append(data_for_BDT[key]) # append the MC dataframe to the list containing all MC features\n",
    "X = np.concatenate(all_MC) # concatenate the list of MC dataframes into a single 2D array of features, called X\n",
    "\n",
    "all_y = [] # define empty list that will contain labels whether an event in signal or background\n",
    "for key in data: # loop over the different keys in the dictionary of dataframes\n",
    "    if key!=r'$H \\rightarrow ZZ \\rightarrow \\ell\\ell\\ell\\ell$' and key!='data': # only background MC should pass this\n",
    "        all_y.append(np.zeros(data_for_BDT[key].shape[0])) # background events are labelled with 0\n",
    "all_y.append(np.ones(data_for_BDT[r'$H \\rightarrow ZZ \\rightarrow \\ell\\ell\\ell\\ell$'].shape[0])) # signal events are labelled with 1\n",
    "y = np.concatenate(all_y) # concatenate the list of lables into a single 1D array of labels, called y"
   ]
  },
  {
   "cell_type": "markdown",
   "metadata": {},
   "source": [
    "[Back to contents](#contents)"
   ]
  },
  {
   "cell_type": "markdown",
   "metadata": {},
   "source": [
    "<a id='train_test'></a>"
   ]
  },
  {
   "cell_type": "markdown",
   "metadata": {},
   "source": [
    "### The Training and Testing split\n",
    "One of the first things to do is split your data into a training and testing set. This will split your data into train-test sets: 67%-33%. It will also shuffle entries so you will not get the first 67% of <span style=\"color:orange\">X</span> for training and the last 33% for testing. This is particularly important in cases where you load all <span style=\"color:blue\">signal</span> events first and then the <span style=\"color:red\">background</span> events.\n",
    "\n",
    "Here we split our data into two independent samples. The split is to create a training and testing set. The first will be used for training the classifier and the second to evaluate its performance.\n",
    "\n",
    "We don't want to test on events that we used to train on, this prevents overfitting to some subset of data so the network would be good for the test data but much worse at any *new* data it sees."
   ]
  },
  {
   "cell_type": "code",
   "execution_count": 19,
   "metadata": {},
   "outputs": [],
   "source": [
    "from sklearn.model_selection import train_test_split\n",
    "\n",
    "# make train and test sets\n",
    "X_train,X_test, y_train,y_test = train_test_split(X, y, \n",
    "                                                  test_size=0.33, \n",
    "                                                  random_state=492 )"
   ]
  },
  {
   "cell_type": "markdown",
   "metadata": {},
   "source": [
    "[Back to contents](#contents)"
   ]
  },
  {
   "cell_type": "markdown",
   "metadata": {},
   "source": [
    "<a id='training'></a>"
   ]
  },
  {
   "cell_type": "markdown",
   "metadata": {},
   "source": [
    "### Training Decision Trees\n",
    "We'll use SciKit Learn (sklearn) in this tutorial. Other possible tools include keras and pytorch. \n",
    "\n",
    "Here we set several hyper-parameters to non default values.\n",
    "\n",
    "After instantiating our <span style=\"color:orange\">AdaBoostClassifier</span>, call the <span style=\"color:orange\">fit()</span> method with the training sample as an argument. This will train the tree, now we are ready to evaluate the performance on the held out testing set."
   ]
  },
  {
   "cell_type": "code",
   "execution_count": 20,
   "metadata": {},
   "outputs": [
    {
     "name": "stdout",
     "output_type": "stream",
     "text": [
      "Time taken to fit BDT: 0.0s\n",
      "AdaBoostClassifier(algorithm='SAMME',\n",
      "                   estimator=DecisionTreeClassifier(max_depth=2),\n",
      "                   learning_rate=0.5, n_estimators=12)\n"
     ]
    }
   ],
   "source": [
    "from sklearn.tree import DecisionTreeClassifier\n",
    "from sklearn.ensemble import AdaBoostClassifier\n",
    "\n",
    "dt = DecisionTreeClassifier(max_depth=2) # maximum depth of the tree\n",
    "bdt = AdaBoostClassifier(dt,\n",
    "                        algorithm='SAMME', # SAMME discrete boosting algorithm\n",
    "                        n_estimators=12, # max number of estimators at which boosting is terminated\n",
    "                        learning_rate=0.5) # shrinks the contribution of each classifier by learning_rate\n",
    "\n",
    "start = time.time() # time at start of BDT fit\n",
    "bdt.fit(X_train, y_train) # fit BDT to training set\n",
    "elapsed = time.time() - start # time after fitting BDT\n",
    "print(\"Time taken to fit BDT: \"+str(round(elapsed,1))+\"s\") # print total time taken to fit BDT\n",
    "print(bdt)"
   ]
  },
  {
   "cell_type": "markdown",
   "metadata": {},
   "source": [
    "The <span style=\"color:orange\">fit()</span> method returns the trained classifier. When printed out all the hyper-parameters are listed."
   ]
  },
  {
   "cell_type": "markdown",
   "metadata": {},
   "source": [
    "[Back to contents](#contents)"
   ]
  },
  {
   "cell_type": "markdown",
   "metadata": {},
   "source": [
    "<a id='performance'></a>"
   ]
  },
  {
   "cell_type": "markdown",
   "metadata": {},
   "source": [
    "### Assessing a Classifier's Performance\n",
    "Next let's create a quick report on how well our classifier is doing. It is important to make sure you use samples not seen by the classifier to get an unbiased estimate of its performance."
   ]
  },
  {
   "cell_type": "code",
   "execution_count": 21,
   "metadata": {},
   "outputs": [
    {
     "name": "stdout",
     "output_type": "stream",
     "text": [
      "              precision    recall  f1-score   support\n",
      "\n",
      "  background       0.85      0.91      0.88      1814\n",
      "      signal       0.63      0.49      0.55       559\n",
      "\n",
      "    accuracy                           0.81      2373\n",
      "   macro avg       0.74      0.70      0.71      2373\n",
      "weighted avg       0.80      0.81      0.80      2373\n",
      "\n",
      "Area under ROC curve for test data: 0.8457\n"
     ]
    }
   ],
   "source": [
    "from sklearn.metrics import classification_report, roc_auc_score\n",
    "y_predicted = bdt.predict(X_test) # get predicted y for test set\n",
    "print (classification_report(y_test, y_predicted,\n",
    "                            target_names=[\"background\", \"signal\"]))\n",
    "print (\"Area under ROC curve for test data: %.4f\"%(roc_auc_score(y_test,\n",
    "                                                    bdt.decision_function(X_test))) )"
   ]
  },
  {
   "cell_type": "markdown",
   "metadata": {},
   "source": [
    "[Back to contents](#contents)"
   ]
  },
  {
   "cell_type": "markdown",
   "metadata": {},
   "source": [
    "To illustrate that point, here's the same performance metrics evaluated on the training set instead. The estimates of the performance are more optimistic than on an unseen set of events."
   ]
  },
  {
   "cell_type": "code",
   "execution_count": 22,
   "metadata": {},
   "outputs": [
    {
     "name": "stdout",
     "output_type": "stream",
     "text": [
      "              precision    recall  f1-score   support\n",
      "\n",
      "  background       0.86      0.90      0.88      3728\n",
      "      signal       0.59      0.50      0.54      1088\n",
      "\n",
      "    accuracy                           0.81      4816\n",
      "   macro avg       0.72      0.70      0.71      4816\n",
      "weighted avg       0.80      0.81      0.80      4816\n",
      "\n",
      "Area under ROC curve for training data: 0.8552\n"
     ]
    }
   ],
   "source": [
    "y_predicted = bdt.predict(X_train) # get predicted y for train set\n",
    "print (classification_report(y_train, y_predicted,\n",
    "                            target_names=[\"background\", \"signal\"]))\n",
    "print (\"Area under ROC curve for training data: %.4f\"%(roc_auc_score(y_train,\n",
    "                                                    bdt.decision_function(X_train))))"
   ]
  },
  {
   "cell_type": "markdown",
   "metadata": {},
   "source": [
    "[Back to contents](#contents)"
   ]
  },
  {
   "cell_type": "markdown",
   "metadata": {},
   "source": [
    "<a id='ROC'></a>"
   ]
  },
  {
   "cell_type": "markdown",
   "metadata": {},
   "source": [
    "### Receiver Operarting Characteristic (ROC) curve for BDT\n",
    "Another useful plot to judge the performance of a classifier is to look at the ROC curve directly."
   ]
  },
  {
   "cell_type": "code",
   "execution_count": 23,
   "metadata": {},
   "outputs": [
    {
     "data": {
      "image/png": "[encoded data removed]",
      "text/plain": [
       "<Figure size 640x480 with 1 Axes>"
      ]
     },
     "metadata": {},
     "output_type": "display_data"
    },
    {
     "data": {
      "image/png": "[encoded data removed]",
      "text/plain": [
       "<Figure size 640x480 with 1 Axes>"
      ]
     },
     "metadata": {},
     "output_type": "display_data"
    }
   ],
   "source": [
    "# we first plot the Neural Network output\n",
    "signal_decisions = bdt.decision_function(X[y>0.5]).ravel() # get probabilities on signal\n",
    "background_decisions = bdt.decision_function(X[y<0.5]).ravel() # get decisions on background\n",
    "\n",
    "plt.hist(background_decisions, color='red', label='background', \n",
    "         histtype='step', # lineplot that's unfilled\n",
    "         density=True ) # normalize to form a probability density\n",
    "plt.hist(signal_decisions, color='blue', label='signal', \n",
    "         histtype='step', # lineplot that's unfilled\n",
    "         density=True, # normalize to form a probability density\n",
    "         linestyle='--' ) # dashed line\n",
    "plt.xlabel('BDT output') # add x-axis label\n",
    "plt.ylabel('Arbitrary units') # add y-axis label\n",
    "plt.legend() # add legend\n",
    "\n",
    "\n",
    "# we then plot the ROC\n",
    "plt.figure() # make new figure \n",
    "\n",
    "from sklearn.metrics import roc_curve, auc\n",
    "\n",
    "decisions = bdt.decision_function(X_test).ravel() # get probabilities on test set\n",
    "\n",
    "# Compute ROC curve and area under the curve\n",
    "fpr, tpr, _ = roc_curve(y_test, # actual\n",
    "                        decisions ) # predicted\n",
    "\n",
    "# Compute area under the curve for training set\n",
    "roc_auc = auc(fpr, # false positive rate \n",
    "              tpr) # true positive rate\n",
    "\n",
    "plt.plot(fpr, tpr, label='ROC (area = %0.2f)'%(roc_auc)) # plot test ROC curve\n",
    "plt.plot([0, 1], # x from 0 to 1\n",
    "         [0, 1], # y from 0 to 1\n",
    "         '--', # dashed line\n",
    "         color='grey', label='Luck')\n",
    "\n",
    "plt.xlabel('False Positive Rate') # x-axis label\n",
    "plt.ylabel('True Positive Rate') # y-axis label\n",
    "plt.title('Receiver operating characteristic (ROC) curve') # title\n",
    "plt.legend() # add legend\n",
    "plt.grid() # add grid"
   ]
  },
  {
   "cell_type": "markdown",
   "metadata": {},
   "source": [
    "Sliding the cut threshold in Neural Network output (upper plot) from right to left builds up the ROC curve (lower plot) from bottom to top."
   ]
  },
  {
   "cell_type": "markdown",
   "metadata": {},
   "source": [
    "[Back to contents](#contents)"
   ]
  },
  {
   "cell_type": "markdown",
   "metadata": {},
   "source": [
    "<a id='overtraining'></a>"
   ]
  },
  {
   "cell_type": "markdown",
   "metadata": {},
   "source": [
    "### BDT Overtraining Check\n",
    "Comparing the BDT's output distribution for the training and testing set is a popular way in HEP to check for overtraining. The <span style=\"color:orange\">compare_train_test()</span> method will plot the shape of the BDT's decision function for each class, as well as overlaying it with the decision function in the training set.\n",
    "\n",
    "There are techniques to prevent overtraining."
   ]
  },
  {
   "cell_type": "code",
   "execution_count": 24,
   "metadata": {},
   "outputs": [
    {
     "data": {
      "image/png": "[encoded data removed]",
      "text/plain": [
       "<Figure size 640x480 with 1 Axes>"
      ]
     },
     "metadata": {},
     "output_type": "display_data"
    }
   ],
   "source": [
    "def compare_train_test(clf, X_train, y_train, X_test, y_test):\n",
    "    decisions = [] # list to hold decisions of classifier\n",
    "    for X,y in ((X_train, y_train), (X_test, y_test)): # train and test\n",
    "        d1 = clf.decision_function(X[y<0.5]).ravel() # background\n",
    "        d2 = clf.decision_function(X[y>0.5]).ravel() # signal\n",
    "        decisions += [d1, d2] # add to list of classifier decision\n",
    "    \n",
    "    highest_decision = max(np.max(d) for d in decisions) # get maximum score\n",
    "    bin_edges = [] # list to hold bin edges\n",
    "    bin_edge = -1.1 # start counter for bin_edges\n",
    "    while bin_edge < highest_decision: # up to highest score\n",
    "        bin_edge += 0.1 # increment\n",
    "        bin_edges.append(bin_edge)\n",
    "    \n",
    "    plt.hist(decisions[0], # background in train set\n",
    "             bins=bin_edges, # lower and upper range of the bins\n",
    "             density=True, # area under the histogram will sum to 1\n",
    "             histtype='stepfilled', # lineplot that's filled\n",
    "             color='red', label='B (train)', # Background (train)\n",
    "            alpha=0.5 ) # half transparency\n",
    "    plt.hist(decisions[1], # background in train set\n",
    "             bins=bin_edges, # lower and upper range of the bins\n",
    "             density=True, # area under the histogram will sum to 1\n",
    "             histtype='stepfilled', # lineplot that's filled\n",
    "             color='blue', label='S (train)', # Signal (train)\n",
    "            alpha=0.5 ) # half transparency\n",
    "\n",
    "    hist_background, bin_edges = np.histogram(decisions[2], # background test\n",
    "                                              bins=bin_edges, # number of bins in function definition\n",
    "                                              density=True ) # area under the histogram will sum to 1\n",
    "    \n",
    "    scale = len(decisions[2]) / sum(hist_background) # between raw and normalised\n",
    "    err_background = np.sqrt(hist_background * scale) / scale # error on test background\n",
    "\n",
    "    width = 0.1 # histogram bin width\n",
    "    center = (bin_edges[:-1] + bin_edges[1:]) / 2 # bin centres\n",
    "    \n",
    "    plt.errorbar(x=center, y=hist_background, yerr=err_background, fmt='o', # circles\n",
    "                 c='red', label='B (test)' ) # Background (test)\n",
    "    \n",
    "    hist_signal, bin_edges = np.histogram(decisions[3], # siganl test\n",
    "                                          bins=bin_edges, # number of bins in function definition\n",
    "                                          density=True ) # area under the histogram will sum to 1\n",
    "    scale = len(decisions[3]) / sum(hist_signal) # between raw and normalised\n",
    "    err_signal = np.sqrt(hist_signal * scale) / scale # error on test background\n",
    "    \n",
    "    plt.errorbar(x=center, y=hist_signal, yerr=err_signal, fmt='o', # circles\n",
    "                 c='blue', label='S (test)' ) # Signal (test)\n",
    "    \n",
    "    plt.xlabel(\"BDT output\") # write x-axis label\n",
    "    plt.ylabel(\"Arbitrary units\") # write y-axis label\n",
    "    plt.legend() # add legend\n",
    "    \n",
    "compare_train_test(bdt, X_train, y_train, X_test, y_test) # call compare_train_test"
   ]
  },
  {
   "cell_type": "markdown",
   "metadata": {},
   "source": [
    "[Back to contents](#contents)"
   ]
  },
  {
   "cell_type": "markdown",
   "metadata": {},
   "source": [
    "<a id='NN_optimisation'></a>"
   ]
  },
  {
   "cell_type": "markdown",
   "metadata": {},
   "source": [
    "### BDT Optimisation\n",
    "\n",
    "Here we get the BDT's decision function for every event that was processed at the begininning (so could be data, <span style=\"color:blue\">signal</span>, <span style=\"color:red\">background</span>...). The higher the decision function, the more the BDT thinks that event looks like <span style=\"color:blue\">signal</span>."
   ]
  },
  {
   "cell_type": "code",
   "execution_count": 25,
   "metadata": {},
   "outputs": [
    {
     "data": {
      "text/plain": [
       "array([-2.        ,  0.18728338, -2.        , ...,  0.18728338,\n",
       "       -0.10548752, -1.88604216])"
      ]
     },
     "execution_count": 25,
     "metadata": {},
     "output_type": "execute_result"
    }
   ],
   "source": [
    "y_predicted = bdt.decision_function(X)\n",
    "y_predicted"
   ]
  },
  {
   "cell_type": "markdown",
   "metadata": {},
   "source": [
    "In this cell we save the BDT output to our dataframes."
   ]
  },
  {
   "cell_type": "code",
   "execution_count": 26,
   "metadata": {},
   "outputs": [
    {
     "name": "stdout",
     "output_type": "stream",
     "text": [
      "entry\n",
      "0      -2.000000\n",
      "1       0.187283\n",
      "2      -2.000000\n",
      "3      -0.122896\n",
      "4      -2.000000\n",
      "          ...   \n",
      "5537   -2.000000\n",
      "5538   -2.000000\n",
      "5539   -2.000000\n",
      "5540   -0.697757\n",
      "5541    0.187283\n",
      "Name: BDT_output, Length: 5542, dtype: float64\n",
      "entry\n",
      "0       0.187283\n",
      "1       0.187283\n",
      "2      -0.122896\n",
      "3      -0.122896\n",
      "4      -1.293773\n",
      "          ...   \n",
      "1642   -0.105488\n",
      "1643    0.048780\n",
      "1644    0.187283\n",
      "1645   -0.105488\n",
      "1646   -1.886042\n",
      "Name: BDT_output, Length: 1647, dtype: float64\n"
     ]
    }
   ],
   "source": [
    "cumulative_events = 0 # start counter for total number of events for which output is saved\n",
    "for key in data: # loop over samples\n",
    "    data[key]['BDT_output'] = y_predicted[cumulative_events:cumulative_events+len(data[key])]\n",
    "    cumulative_events += len(data[key]) # increment counter for total number of events\n",
    "    print(data[key]['BDT_output']) # print the dataframe column BDT_output"
   ]
  },
  {
   "cell_type": "markdown",
   "metadata": {},
   "source": [
    "[Back to contents](#contents)"
   ]
  },
  {
   "cell_type": "markdown",
   "metadata": {},
   "source": [
    "Here we define parameters to plot the BDT output"
   ]
  },
  {
   "cell_type": "code",
   "execution_count": 27,
   "metadata": {},
   "outputs": [],
   "source": [
    "BDT_output = { # dictionary containing plotting parameters for the mllll histogram\n",
    "    # change plotting parameters\n",
    "    'bin_width':0.1, # width of each histogram bin\n",
    "    'num_bins':14, # number of histogram bins\n",
    "    'xrange_min':-1, # minimum on x-axis\n",
    "    'xlabel':'BDT output', # x-axis label\n",
    "}\n",
    "\n",
    "SoverB_hist_dict = {'BDT_output':BDT_output}\n",
    "\n",
    "with open(\"bdt_model.pkl\", \"wb\") as model:\n",
    "    pickle.dump(bdt, model)\n"
   ]
  },
  {
   "cell_type": "markdown",
   "metadata": {},
   "source": [
    "Here we call the function defined above to to illustrate the optimum cut value on BDT output, based on <span style=\"color:blue\">signal</span> to <span style=\"color:red\">background</span> ratio."
   ]
  },
  {
   "cell_type": "code",
   "execution_count": 28,
   "metadata": {},
   "outputs": [
    {
     "data": {
      "image/png": "[encoded data removed]",
      "text/plain": [
       "<Figure size 640x480 with 1 Axes>"
      ]
     },
     "metadata": {},
     "output_type": "display_data"
    },
    {
     "data": {
      "image/png": "[encoded data removed]",
      "text/plain": [
       "<Figure size 640x480 with 1 Axes>"
      ]
     },
     "metadata": {},
     "output_type": "display_data"
    }
   ],
   "source": [
    "plot_SoverB(data)"
   ]
  },
  {
   "cell_type": "markdown",
   "metadata": {},
   "source": [
    "[Back to contents](#contents)"
   ]
  },
  {
   "cell_type": "markdown",
   "metadata": {},
   "source": [
    "Putting everything into a BDT means we only have 1 variable to optimise. The <span style=\"color:blue\">signal</span> and <span style=\"color:red\">background</span> distributions are separated much better when looking at BDT output, compared to individual variables. Cutting on BDT output also achieves much higher S/B values than on individual variables.\n",
    "\n",
    "BDTs can achieve better S/B ratios because they find correlations in many dimensions that will give better signal/background classification.\n",
    "\n",
    "Hopefully you've enjoyed this discussion on optimising for <span style=\"color:blue\">signal</span> to <span style=\"color:red\">background</span> ratio, and in particular how a BDT can be used to facilitate this."
   ]
  },
  {
   "cell_type": "markdown",
   "metadata": {},
   "source": [
    "<a id='going_further'></a>"
   ]
  },
  {
   "cell_type": "markdown",
   "metadata": {},
   "source": [
    "## Going further\n",
    "\n",
    "If you want to go further, there are a number of things you could try: \n",
    "* Increase the fraction of events that are processed in '[Lumi, fraction, file path](#fraction)'.\n",
    "* Add in the other <span style=\"color:blue\">H->ZZ signal</span> samples in '[Samples](#samples)'. You can copy them from [HZZAnalysis.ipynb](https://github.com/atlas-outreach-data-tools/notebooks-collection-opendata/blob/master/13-TeV-examples/uproot_python/HZZAnalysis.ipynb). Try adding them one at a time first, then see how things look with all added.\n",
    "* Add in the Z and ttbar <span style=\"color:red\">backgrounds</span> samples in '[Samples](#samples)'. You can copy them from [HZZAnalysis.ipynb](https://github.com/atlas-outreach-data-tools/notebooks-collection-opendata/blob/master/13-TeV-examples/uproot_python/HZZAnalysis.ipynb). Try adding them separately first, then see how things look with both added.\n",
    "* Add some more variables into the in '[Boosted Decision Tree (BDT)](#BDT)'. Add them in one at a time, rather than all at once, because adding a variable could decrease BDT performance, due to anti-correlation. For some ideas of variables, you can look at the paper for the [discovery of the Higgs boson by ATLAS](https://www.sciencedirect.com/science/article/pii/S037026931200857X) (mostly Section 4 and 4.1).\n",
    "* Add in real data in '[Samples](#samples)' and see whether the BDT output distributions in data and simulation match. You can copy data from [HZZAnalysis.ipynb](https://github.com/atlas-outreach-data-tools/notebooks-collection-opendata/blob/master/13-TeV-examples/uproot_python/HZZAnalysis.ipynb). \n",
    "* Modify some BDT hyper-parameters in '[Training Decision Trees](#training)'.\n",
    "\n",
    "With each change, keep an eye on the:\n",
    "* total area under the ROC curve, \n",
    "* separation between <span style=\"color:blue\">signal</span> and <span style=\"color:red\">background</span> in the BDT output distribution\n",
    "* S/B scores that can be achieved\n",
    "\n",
    "Notice that we've trained and tested our BDT on simulated data. We would then *apply* it to real experimental data. Once you're happy with your BDT, you may want to put it back into a full analysis to run over all data."
   ]
  },
  {
   "cell_type": "markdown",
   "metadata": {},
   "source": [
    "[Back to contents](#contents)"
   ]
  },
  {
   "cell_type": "code",
   "execution_count": 29,
   "metadata": {},
   "outputs": [
    {
     "name": "stdout",
     "output_type": "stream",
     "text": [
      "Processing data samples\n",
      "\tProcessing: data_A\n",
      "\tProcessing: data_B\n"
     ]
    },
    {
     "name": "stderr",
     "output_type": "stream",
     "text": [
      "/tmp/ipykernel_192654/4175035339.py:52: FutureWarning: The frame.append method is deprecated and will be removed from pandas in a future version. Use pandas.concat instead.\n",
      "  data_all = data_all.append(data) # append dataframe from this batch to the dataframe for the whole sample\n"
     ]
    },
    {
     "name": "stdout",
     "output_type": "stream",
     "text": [
      "\t\t nIn: 1,\t nOut: \t1\t in 2.4s\n",
      "\tProcessing: data_C\n"
     ]
    },
    {
     "name": "stderr",
     "output_type": "stream",
     "text": [
      "/tmp/ipykernel_192654/4175035339.py:52: FutureWarning: The frame.append method is deprecated and will be removed from pandas in a future version. Use pandas.concat instead.\n",
      "  data_all = data_all.append(data) # append dataframe from this batch to the dataframe for the whole sample\n"
     ]
    },
    {
     "name": "stdout",
     "output_type": "stream",
     "text": [
      "\t\t nIn: 2,\t nOut: \t2\t in 3.1s\n",
      "\tProcessing: data_D\n"
     ]
    },
    {
     "name": "stderr",
     "output_type": "stream",
     "text": [
      "/tmp/ipykernel_192654/4175035339.py:52: FutureWarning: The frame.append method is deprecated and will be removed from pandas in a future version. Use pandas.concat instead.\n",
      "  data_all = data_all.append(data) # append dataframe from this batch to the dataframe for the whole sample\n"
     ]
    },
    {
     "name": "stdout",
     "output_type": "stream",
     "text": [
      "\t\t nIn: 4,\t nOut: \t4\t in 6.0s\n",
      "Processing Background $Z,t\\bar{t}$ samples\n",
      "\tProcessing: Zee\n"
     ]
    },
    {
     "name": "stderr",
     "output_type": "stream",
     "text": [
      "/tmp/ipykernel_192654/4175035339.py:52: FutureWarning: The frame.append method is deprecated and will be removed from pandas in a future version. Use pandas.concat instead.\n",
      "  data_all = data_all.append(data) # append dataframe from this batch to the dataframe for the whole sample\n"
     ]
    },
    {
     "name": "stdout",
     "output_type": "stream",
     "text": [
      "\t\t nIn: 8,\t nOut: \t8\t in 10.1s\n",
      "\tProcessing: Zmumu\n"
     ]
    },
    {
     "name": "stderr",
     "output_type": "stream",
     "text": [
      "/tmp/ipykernel_192654/4175035339.py:52: FutureWarning: The frame.append method is deprecated and will be removed from pandas in a future version. Use pandas.concat instead.\n",
      "  data_all = data_all.append(data) # append dataframe from this batch to the dataframe for the whole sample\n"
     ]
    },
    {
     "name": "stdout",
     "output_type": "stream",
     "text": [
      "\t\t nIn: 6,\t nOut: \t6\t in 7.9s\n",
      "\tProcessing: ttbar_lep\n"
     ]
    },
    {
     "name": "stderr",
     "output_type": "stream",
     "text": [
      "/tmp/ipykernel_192654/4175035339.py:52: FutureWarning: The frame.append method is deprecated and will be removed from pandas in a future version. Use pandas.concat instead.\n",
      "  data_all = data_all.append(data) # append dataframe from this batch to the dataframe for the whole sample\n"
     ]
    },
    {
     "name": "stdout",
     "output_type": "stream",
     "text": [
      "\t\t nIn: 10,\t nOut: \t10\t in 12.0s\n",
      "Processing Background $ZZ^*$ samples\n",
      "\tProcessing: llll\n"
     ]
    },
    {
     "name": "stderr",
     "output_type": "stream",
     "text": [
      "/tmp/ipykernel_192654/4175035339.py:52: FutureWarning: The frame.append method is deprecated and will be removed from pandas in a future version. Use pandas.concat instead.\n",
      "  data_all = data_all.append(data) # append dataframe from this batch to the dataframe for the whole sample\n"
     ]
    },
    {
     "name": "stdout",
     "output_type": "stream",
     "text": [
      "\t\t nIn: 5542,\t nOut: \t5542\t in 271.9s\n",
      "Processing Signal ($m_H$ = 125 GeV) samples\n",
      "\tProcessing: ggH125_ZZ4lep\n"
     ]
    },
    {
     "name": "stderr",
     "output_type": "stream",
     "text": [
      "/tmp/ipykernel_192654/4175035339.py:52: FutureWarning: The frame.append method is deprecated and will be removed from pandas in a future version. Use pandas.concat instead.\n",
      "  data_all = data_all.append(data) # append dataframe from this batch to the dataframe for the whole sample\n"
     ]
    },
    {
     "name": "stdout",
     "output_type": "stream",
     "text": [
      "\t\t nIn: 1647,\t nOut: \t1647\t in 629.8s\n",
      "\tProcessing: VBFH125_ZZ4lep\n"
     ]
    },
    {
     "name": "stderr",
     "output_type": "stream",
     "text": [
      "/tmp/ipykernel_192654/4175035339.py:52: FutureWarning: The frame.append method is deprecated and will be removed from pandas in a future version. Use pandas.concat instead.\n",
      "  data_all = data_all.append(data) # append dataframe from this batch to the dataframe for the whole sample\n"
     ]
    },
    {
     "name": "stdout",
     "output_type": "stream",
     "text": [
      "\t\t nIn: 1911,\t nOut: \t1911\t in 518.7s\n",
      "\tProcessing: WH125_ZZ4lep\n"
     ]
    },
    {
     "name": "stderr",
     "output_type": "stream",
     "text": [
      "/tmp/ipykernel_192654/4175035339.py:52: FutureWarning: The frame.append method is deprecated and will be removed from pandas in a future version. Use pandas.concat instead.\n",
      "  data_all = data_all.append(data) # append dataframe from this batch to the dataframe for the whole sample\n"
     ]
    },
    {
     "name": "stdout",
     "output_type": "stream",
     "text": [
      "\t\t nIn: 153,\t nOut: \t153\t in 27.9s\n",
      "\tProcessing: ZH125_ZZ4lep\n",
      "\t\t nIn: 144,\t nOut: \t144\t in 17.9s\n"
     ]
    },
    {
     "name": "stderr",
     "output_type": "stream",
     "text": [
      "/tmp/ipykernel_192654/4175035339.py:52: FutureWarning: The frame.append method is deprecated and will be removed from pandas in a future version. Use pandas.concat instead.\n",
      "  data_all = data_all.append(data) # append dataframe from this batch to the dataframe for the whole sample\n"
     ]
    },
    {
     "data": {
      "text/plain": [
       "{'data':         lep_pt_1   lep_pt_2\n",
       " entry                      \n",
       " 0      38.049309  35.706691\n",
       " 0      35.543598  15.191824\n",
       " 1      79.772945  33.147500\n",
       " 0      46.530082  45.124551\n",
       " 1      45.729469  32.490227\n",
       " 2      22.822242  10.655915\n",
       " 3      80.416508  50.298473,\n",
       " 'Background $Z,t\\\\bar{t}$':         lep_pt_1   lep_pt_2\n",
       " entry                      \n",
       " 0      21.530459  14.459594\n",
       " 1      45.201867  12.077552\n",
       " 2      45.130008  43.174137\n",
       " 3      37.666000   8.385744\n",
       " 4      27.585711  10.877595\n",
       " 5      24.413736   8.808941\n",
       " 6      43.928801  14.836689\n",
       " 7      36.198332   7.815994\n",
       " 0      34.416238  14.783072\n",
       " 1      40.959285  14.568773\n",
       " 2      44.686766  13.851251\n",
       " 3      43.666797   9.876255\n",
       " 4      24.471869   9.783257\n",
       " 5      33.910969  10.066641\n",
       " 0      38.832246  12.576012\n",
       " 1      51.814488   7.977667\n",
       " 2      50.520613  12.462047\n",
       " 3      28.147189   9.649799\n",
       " 4      27.150857   9.456588\n",
       " 5      39.930836  18.221740\n",
       " 6      46.232082  12.757916\n",
       " 7      13.127244  11.465554\n",
       " 8      24.004053  20.221580\n",
       " 9      42.930437  17.083658,\n",
       " 'Background $ZZ^*$':          lep_pt_1   lep_pt_2\n",
       " entry                       \n",
       " 0       61.677957  48.666441\n",
       " 1       41.498750  18.562252\n",
       " 2       78.250461  56.973090\n",
       " 3       26.851668  13.466778\n",
       " 4       98.566398  74.528453\n",
       " ...           ...        ...\n",
       " 5537    82.193586  55.987336\n",
       " 5538    78.906844  56.548809\n",
       " 5539   116.852937  51.460316\n",
       " 5540    15.847790  12.454036\n",
       " 5541    44.420570  13.333565\n",
       " \n",
       " [5542 rows x 2 columns],\n",
       " 'Signal ($m_H$ = 125 GeV)':         lep_pt_1   lep_pt_2\n",
       " entry                      \n",
       " 0      41.248570  16.397670\n",
       " 1      40.307168  16.133789\n",
       " 2      27.313271  20.035949\n",
       " 3      27.845740  17.726541\n",
       " 4      53.367754  25.596689\n",
       " ...          ...        ...\n",
       " 139    27.160451  24.313803\n",
       " 140    23.603437  17.438469\n",
       " 141    30.057568  29.913898\n",
       " 142    44.904566  40.819301\n",
       " 143    47.649656  39.711520\n",
       " \n",
       " [3855 rows x 2 columns]}"
      ]
     },
     "execution_count": 29,
     "metadata": {},
     "output_type": "execute_result"
    }
   ],
   "source": [
    "samples = {\n",
    "\n",
    "    'data': {\n",
    "        'list' : ['data_A','data_B','data_C','data_D'],\n",
    "    },\n",
    "\n",
    "    r'Background $Z,t\\bar{t}$' : { # Z + ttbar\n",
    "        'list' : ['Zee','Zmumu','ttbar_lep'],\n",
    "        'color' : \"#6b59d3\" # purple\n",
    "    },\n",
    "\n",
    "    r'Background $ZZ^*$' : { # ZZ\n",
    "        'list' : ['llll'],\n",
    "        'color' : \"#ff0000\" # red\n",
    "    },\n",
    "\n",
    "    r'Signal ($m_H$ = 125 GeV)' : { # H -> ZZ -> llll\n",
    "        'list' : ['ggH125_ZZ4lep','VBFH125_ZZ4lep','WH125_ZZ4lep','ZH125_ZZ4lep'],\n",
    "        'color' : \"#00cdff\" # light blue\n",
    "    },\n",
    "\n",
    "}\n",
    "\n",
    "data = get_data_from_files()\n",
    "data_for_BDT = {} # define empty dictionary to hold dataframes that will be used to train the BDT\n",
    "BDT_inputs = ['lep_pt_1','lep_pt_2'] # list of features for BDT\n",
    "for key in data: # loop over the different keys in the dictionary of dataframes\n",
    "    data_for_BDT[key] = data[key][BDT_inputs].copy()\n",
    "data"
   ]
  },
  {
   "cell_type": "code",
   "execution_count": 31,
   "metadata": {},
   "outputs": [
    {
     "data": {
      "text/plain": [
       "array([-0.40498574,  0.18728338, -2.        , ..., -0.26139998,\n",
       "       -1.7072291 , -2.        ])"
      ]
     },
     "execution_count": 31,
     "metadata": {},
     "output_type": "execute_result"
    }
   ],
   "source": [
    "all_MC = [] # define empty list that will contain all features for the MC\n",
    "for key in data: # loop over the different keys in the dictionary of dataframes\n",
    "    if key!='data': # only MC should pass this\n",
    "        all_MC.append(data_for_BDT[key]) # append the MC dataframe to the list containing all MC features\n",
    "X = np.concatenate(all_MC) # concatenate the list of MC dataframes into a single 2D array of features, called X\n",
    "\n",
    "y_predicted = bdt.decision_function(X)\n",
    "\n",
    "y_predicted"
   ]
  },
  {
   "cell_type": "code",
   "execution_count": 32,
   "metadata": {},
   "outputs": [
    {
     "data": {
      "text/html": [
       "<div>\n",
       "<style scoped>\n",
       "    .dataframe tbody tr th:only-of-type {\n",
       "        vertical-align: middle;\n",
       "    }\n",
       "\n",
       "    .dataframe tbody tr th {\n",
       "        vertical-align: top;\n",
       "    }\n",
       "\n",
       "    .dataframe thead th {\n",
       "        text-align: right;\n",
       "    }\n",
       "</style>\n",
       "<table border=\"1\" class=\"dataframe\">\n",
       "  <thead>\n",
       "    <tr style=\"text-align: right;\">\n",
       "      <th></th>\n",
       "      <th>lep_pt_1</th>\n",
       "      <th>lep_pt_2</th>\n",
       "    </tr>\n",
       "    <tr>\n",
       "      <th>entry</th>\n",
       "      <th></th>\n",
       "      <th></th>\n",
       "    </tr>\n",
       "  </thead>\n",
       "  <tbody>\n",
       "    <tr>\n",
       "      <th>0</th>\n",
       "      <td>41.248570</td>\n",
       "      <td>16.397670</td>\n",
       "    </tr>\n",
       "    <tr>\n",
       "      <th>1</th>\n",
       "      <td>40.307168</td>\n",
       "      <td>16.133789</td>\n",
       "    </tr>\n",
       "    <tr>\n",
       "      <th>2</th>\n",
       "      <td>27.313271</td>\n",
       "      <td>20.035949</td>\n",
       "    </tr>\n",
       "    <tr>\n",
       "      <th>3</th>\n",
       "      <td>27.845740</td>\n",
       "      <td>17.726541</td>\n",
       "    </tr>\n",
       "    <tr>\n",
       "      <th>4</th>\n",
       "      <td>53.367754</td>\n",
       "      <td>25.596689</td>\n",
       "    </tr>\n",
       "    <tr>\n",
       "      <th>...</th>\n",
       "      <td>...</td>\n",
       "      <td>...</td>\n",
       "    </tr>\n",
       "    <tr>\n",
       "      <th>139</th>\n",
       "      <td>27.160451</td>\n",
       "      <td>24.313803</td>\n",
       "    </tr>\n",
       "    <tr>\n",
       "      <th>140</th>\n",
       "      <td>23.603437</td>\n",
       "      <td>17.438469</td>\n",
       "    </tr>\n",
       "    <tr>\n",
       "      <th>141</th>\n",
       "      <td>30.057568</td>\n",
       "      <td>29.913898</td>\n",
       "    </tr>\n",
       "    <tr>\n",
       "      <th>142</th>\n",
       "      <td>44.904566</td>\n",
       "      <td>40.819301</td>\n",
       "    </tr>\n",
       "    <tr>\n",
       "      <th>143</th>\n",
       "      <td>47.649656</td>\n",
       "      <td>39.711520</td>\n",
       "    </tr>\n",
       "  </tbody>\n",
       "</table>\n",
       "<p>3855 rows × 2 columns</p>\n",
       "</div>"
      ],
      "text/plain": [
       "        lep_pt_1   lep_pt_2\n",
       "entry                      \n",
       "0      41.248570  16.397670\n",
       "1      40.307168  16.133789\n",
       "2      27.313271  20.035949\n",
       "3      27.845740  17.726541\n",
       "4      53.367754  25.596689\n",
       "...          ...        ...\n",
       "139    27.160451  24.313803\n",
       "140    23.603437  17.438469\n",
       "141    30.057568  29.913898\n",
       "142    44.904566  40.819301\n",
       "143    47.649656  39.711520\n",
       "\n",
       "[3855 rows x 2 columns]"
      ]
     },
     "execution_count": 32,
     "metadata": {},
     "output_type": "execute_result"
    }
   ],
   "source": [
    "data_for_BDT[key]"
   ]
  },
  {
   "cell_type": "code",
   "execution_count": 46,
   "metadata": {},
   "outputs": [],
   "source": [
    "data['data']\n",
    "with open(\"analysis_data.pkl\", \"wb\") as file:\n",
    "    pickle.dump(data, file)"
   ]
  },
  {
   "cell_type": "code",
   "execution_count": 48,
   "metadata": {},
   "outputs": [],
   "source": [
    "with open(\"analysis_data.pkl\", \"rb\") as file:\n",
    "    a = pickle.load(file)"
   ]
  },
  {
   "cell_type": "code",
   "execution_count": 49,
   "metadata": {},
   "outputs": [
    {
     "data": {
      "text/plain": [
       "{'data':             lep_charge          lep_type  \\\n",
       " entry                                      \n",
       " 0       [1, 1, -1, -1]  [13, 11, 13, 11]   \n",
       " 0       [1, -1, -1, 1]  [11, 11, 13, 13]   \n",
       " 1       [1, -1, -1, 1]  [11, 11, 11, 11]   \n",
       " 0       [1, 1, -1, -1]  [13, 11, 11, 13]   \n",
       " 1      [-1, -1, 1, -1]  [13, 11, 11, 13]   \n",
       " 2        [1, -1, 1, 1]  [11, 11, 11, 11]   \n",
       " 3       [1, -1, -1, 1]  [11, 11, 13, 13]   \n",
       " \n",
       "                                             lep_pt  mcWeight  \\\n",
       " entry                                                          \n",
       " 0        [49045.12, 38049.31, 35706.69, 34415.664]       0.0   \n",
       " 0      [41584.86, 35543.598, 15191.824, 12317.306]       0.0   \n",
       " 1       [124525.93, 79772.945, 33147.5, 24046.527]       0.0   \n",
       " 0      [173914.67, 46530.082, 45124.55, 43725.254]       0.0   \n",
       " 1       [52296.227, 45729.47, 32490.227, 31022.14]       0.0   \n",
       " 2       [48832.64, 22822.242, 10655.915, 8091.099]       0.0   \n",
       " 3       [107317.14, 80416.51, 50298.473, 42466.17]       0.0   \n",
       " \n",
       "        scaleFactor_PILEUP  scaleFactor_ELE  scaleFactor_MUON  \\\n",
       " entry                                                          \n",
       " 0                     0.0              0.0               0.0   \n",
       " 0                     0.0              0.0               0.0   \n",
       " 1                     0.0              0.0               0.0   \n",
       " 0                     0.0              0.0               0.0   \n",
       " 1                     0.0              0.0               0.0   \n",
       " 2                     0.0              0.0               0.0   \n",
       " 3                     0.0              0.0               0.0   \n",
       " \n",
       "        scaleFactor_LepTRIGGER   lep_pt_1   lep_pt_2  BDT_output  \n",
       " entry                                                            \n",
       " 0                         0.0  38.049309  35.706691   -0.404986  \n",
       " 0                         0.0  35.543598  15.191824    0.187283  \n",
       " 1                         0.0  79.772945  33.147500   -2.000000  \n",
       " 0                         0.0  46.530082  45.124551   -0.105488  \n",
       " 1                         0.0  45.729469  32.490227   -0.415667  \n",
       " 2                         0.0  22.822242  10.655915   -0.415667  \n",
       " 3                         0.0  80.416508  50.298473    0.187283  ,\n",
       " 'Background $Z,t\\\\bar{t}$':             lep_charge          lep_type  \\\n",
       " entry                                      \n",
       " 0       [1, -1, -1, 1]  [11, 11, 11, 13]   \n",
       " 1        [1, -1, 1, 1]  [11, 11, 13, 11]   \n",
       " 2       [1, 1, -1, -1]  [13, 11, 11, 11]   \n",
       " 3       [-1, 1, 1, -1]  [11, 11, 11, 11]   \n",
       " 4       [1, -1, -1, 1]  [11, 11, 11, 13]   \n",
       " 5       [-1, 1, -1, 1]  [11, 11, 11, 13]   \n",
       " 6        [1, -1, 1, 1]  [11, 11, 13, 13]   \n",
       " 7        [-1, 1, 1, 1]  [11, 11, 13, 13]   \n",
       " 0        [-1, 1, 1, 1]  [13, 13, 13, 13]   \n",
       " 1       [-1, 1, -1, 1]  [13, 13, 11, 11]   \n",
       " 2       [1, -1, -1, 1]  [13, 13, 13, 11]   \n",
       " 3       [-1, 1, 1, -1]  [13, 13, 13, 11]   \n",
       " 4       [1, -1, 1, -1]  [13, 13, 13, 11]   \n",
       " 5       [-1, 1, 1, -1]  [13, 13, 13, 11]   \n",
       " 0        [-1, 1, 1, 1]  [13, 13, 11, 11]   \n",
       " 1      [1, -1, -1, -1]  [11, 11, 13, 11]   \n",
       " 2       [1, -1, 1, -1]  [13, 11, 13, 13]   \n",
       " 3       [-1, 1, 1, -1]  [13, 11, 11, 11]   \n",
       " 4       [-1, 1, 1, -1]  [13, 11, 11, 11]   \n",
       " 5        [1, -1, 1, 1]  [11, 11, 13, 11]   \n",
       " 6      [-1, 1, -1, -1]  [11, 11, 11, 11]   \n",
       " 7       [1, -1, -1, 1]  [11, 11, 13, 13]   \n",
       " 8       [-1, 1, 1, -1]  [11, 11, 11, 11]   \n",
       " 9       [1, -1, -1, 1]  [13, 11, 13, 13]   \n",
       " \n",
       "                                              lep_pt     mcWeight  \\\n",
       " entry                                                              \n",
       " 0       [63834.66, 21530.459, 14459.594, 7744.2534]  1941.640015   \n",
       " 1       [45412.223, 45201.867, 12077.552, 8478.665]  1941.109985   \n",
       " 2        [634492.4, 45130.008, 43174.137, 11346.41]  1941.140015   \n",
       " 3           [39319.23, 37666.0, 8385.744, 7025.795]  1942.939941   \n",
       " 4        [34908.57, 27585.71, 10877.595, 10269.535]  1941.010010   \n",
       " 5       [63914.984, 24413.736, 8808.941, 8039.8384]  1941.390015   \n",
       " 6           [45140.63, 43928.8, 14836.689, 7628.92]  1941.099976   \n",
       " 7        [46566.98, 36198.332, 7815.9937, 7263.838]  1942.199951   \n",
       " 0       [48533.914, 34416.24, 14783.072, 7616.2803]  1941.459961   \n",
       " 1       [46588.836, 40959.285, 14568.773, 9568.289]  1941.219971   \n",
       " 2        [44772.13, 44686.766, 13851.251, 8006.872]  1941.310059   \n",
       " 3        [48590.723, 43666.797, 9876.255, 9186.686]  1941.089966   \n",
       " 4          [47038.02, 24471.87, 9783.257, 9082.255]  1941.089966   \n",
       " 5       [58165.438, 33910.97, 10066.641, 7662.8057]  1940.619995   \n",
       " 0        [72882.97, 38832.246, 12576.012, 7013.978]     1.000000   \n",
       " 1       [132460.03, 51814.49, 7977.6675, 7039.7715]     1.000000   \n",
       " 2      [74547.516, 50520.613, 12462.047, 7799.5933]     1.000000   \n",
       " 3          [39905.977, 28147.19, 9649.799, 9186.89]     1.000000   \n",
       " 4        [33729.055, 27150.857, 9456.588, 7020.979]     1.000000   \n",
       " 5      [127494.445, 39930.836, 18221.74, 14719.495]     1.000000   \n",
       " 6       [92819.43, 46232.082, 12757.916, 7730.4995]     1.000000   \n",
       " 7        [85363.75, 13127.244, 11465.554, 8426.112]     1.000000   \n",
       " 8        [48273.773, 24004.053, 20221.58, 7548.149]     1.000000   \n",
       " 9       [77369.95, 42930.438, 17083.658, 10766.938]     1.000000   \n",
       " \n",
       "        scaleFactor_PILEUP  scaleFactor_ELE  scaleFactor_MUON  \\\n",
       " entry                                                          \n",
       " 0                1.554649         0.936960          0.983783   \n",
       " 1                1.214122         1.012851          0.998337   \n",
       " 2                0.000000         0.896024          1.005393   \n",
       " 3                1.087349         0.863112          1.000000   \n",
       " 4                0.619412         0.863754          0.996359   \n",
       " 5                1.225855         0.919040          0.986954   \n",
       " 6                1.262048         0.941071          0.997657   \n",
       " 7                1.225855         0.921117          0.998638   \n",
       " 0                0.619412         1.000000          0.981234   \n",
       " 1                0.696077         0.975698          0.984589   \n",
       " 2                1.320948         1.097580          0.984545   \n",
       " 3                1.196105         1.000000          0.963074   \n",
       " 4                1.196105         1.000000          0.982357   \n",
       " 5                0.923924         1.097580          0.995914   \n",
       " 0                1.214122         1.003360          0.992283   \n",
       " 1                0.596562         0.959434          0.998091   \n",
       " 2                1.320948         0.963110          0.517548   \n",
       " 3                0.187531         1.054298          0.995734   \n",
       " 4                0.351687         1.022384          0.985696   \n",
       " 5                1.262048         0.917045          0.996880   \n",
       " 6                1.262048         0.965486          1.000000   \n",
       " 7                1.745631         0.987888          0.983984   \n",
       " 8                1.264594         0.861824          1.000000   \n",
       " 9                0.750880         0.971990          0.992689   \n",
       " \n",
       "        scaleFactor_LepTRIGGER  totalWeight   lep_pt_1   lep_pt_2  BDT_output  \n",
       " entry                                                                         \n",
       " 0                    0.986830     0.035639  21.530459  14.459594   -0.105488  \n",
       " 1                    1.019750     0.031542  45.201867  12.077552    0.187283  \n",
       " 2                    0.997410     0.000000  45.130008  43.174137    0.187283  \n",
       " 3                    1.023900     0.024233  37.666000   8.385744    0.187283  \n",
       " 4                    0.995890     0.013375  27.585711  10.877595   -0.105488  \n",
       " 5                    0.986830     0.027649  24.413736   8.808941   -0.415667  \n",
       " 6                    0.991210     0.029590  43.928801  14.836689   -0.105488  \n",
       " 7                    0.959220     0.027267  36.198332   7.815994    0.187283  \n",
       " 0                    0.750637     0.011727  34.416238  14.783072   -0.219823  \n",
       " 1                    0.822565     0.014137  40.959285  14.568773   -0.219823  \n",
       " 2                    0.964819     0.035397  44.686766  13.851251   -0.415667  \n",
       " 3                    0.750637     0.022222  43.666797   9.876255   -0.415667  \n",
       " 4                    0.968039     0.029231  24.471869   9.783257    0.187283  \n",
       " 5                    0.984315     0.025541  33.910969  10.066641    0.187283  \n",
       " 0                    0.750637     0.008317  38.832246  12.576012   -0.697757  \n",
       " 1                    1.005820     0.005267  51.814488   7.977667   -0.122896  \n",
       " 2                    1.000580     0.006039  50.520613  12.462047    0.187283  \n",
       " 3                    0.942380     0.001701  28.147189   9.649799   -2.000000  \n",
       " 4                    0.982246     0.003191  27.150857   9.456588    0.187283  \n",
       " 5                    0.996040     0.010534  39.930836  18.221740   -2.000000  \n",
       " 6                    1.003060     0.011203  46.232082  12.757916   -0.122896  \n",
       " 7                    1.005820     0.015645  13.127244  11.465554   -2.000000  \n",
       " 8                    1.025550     0.010245  24.004053  20.221580    0.187283  \n",
       " 9                    0.991210     0.006583  42.930437  17.083658   -1.603953  ,\n",
       " 'Background $ZZ^*$':            lep_charge          lep_type  \\\n",
       " entry                                     \n",
       " 0      [1, -1, 1, -1]  [13, 13, 13, 13]   \n",
       " 1      [-1, 1, 1, -1]  [13, 13, 11, 11]   \n",
       " 2      [-1, 1, 1, -1]  [11, 11, 13, 13]   \n",
       " 3      [1, -1, -1, 1]  [11, 11, 11, 11]   \n",
       " 4      [1, -1, 1, -1]  [11, 11, 11, 11]   \n",
       " ...               ...               ...   \n",
       " 5537   [-1, 1, 1, -1]  [13, 13, 11, 11]   \n",
       " 5538   [-1, -1, 1, 1]  [11, 13, 11, 13]   \n",
       " 5539   [1, 1, -1, -1]  [11, 13, 13, 11]   \n",
       " 5540   [-1, 1, -1, 1]  [11, 11, 11, 11]   \n",
       " 5541   [-1, 1, -1, 1]  [11, 11, 13, 13]   \n",
       " \n",
       "                                              lep_pt  mcWeight  \\\n",
       " entry                                                           \n",
       " 0        [64853.69, 61677.957, 48666.44, 44360.594]  0.126207   \n",
       " 1       [55921.848, 41498.75, 18562.252, 11200.327]  0.332061   \n",
       " 2         [84155.97, 78250.46, 56973.09, 56136.598]  1.000000   \n",
       " 3      [100780.22, 26851.668, 13466.778, 11434.911]  1.000000   \n",
       " 4          [172537.7, 98566.4, 74528.45, 12576.789]  0.127306   \n",
       " ...                                             ...       ...   \n",
       " 5537   [86537.055, 82193.586, 55987.336, 50076.703]  0.100000   \n",
       " 5538      [90804.56, 78906.84, 56548.81, 46208.754]  0.100000   \n",
       " 5539   [133831.22, 116852.94, 51460.316, 41960.438]  0.100000   \n",
       " 5540     [53060.914, 15847.79, 12454.036, 8459.136]  1.000000   \n",
       " 5541     [45599.117, 44420.57, 13333.565, 8013.909]  0.100000   \n",
       " \n",
       "        scaleFactor_PILEUP  scaleFactor_ELE  scaleFactor_MUON  \\\n",
       " entry                                                          \n",
       " 0                1.745631         1.000000          0.994004   \n",
       " 1                0.187531         0.903156          0.995108   \n",
       " 2                1.241677         0.962309          0.972613   \n",
       " 3                0.934886         0.857935          1.000000   \n",
       " 4                0.923924         0.904552          1.000000   \n",
       " ...                   ...              ...               ...   \n",
       " 5537             1.087349         0.948880          0.991218   \n",
       " 5538             0.923924         0.963729          0.986120   \n",
       " 5539             1.214122         0.931390          0.939274   \n",
       " 5540             1.214122         0.853594          1.000000   \n",
       " 5541             0.696077         0.937885          0.990601   \n",
       " \n",
       "        scaleFactor_LepTRIGGER  totalWeight    lep_pt_1   lep_pt_2  BDT_output  \n",
       " entry                                                                          \n",
       " 0                    0.966761     0.000035   61.677957  48.666441   -0.122896  \n",
       " 1                    0.920816     0.000009   41.498750  18.562252   -1.717911  \n",
       " 2                    1.005820     0.000195   78.250461  56.973090   -0.105488  \n",
       " 3                    0.997650     0.000134   26.851668  13.466778   -2.000000  \n",
       " 4                    0.997650     0.000018   98.566398  74.528453    0.187283  \n",
       " ...                       ...          ...         ...        ...         ...  \n",
       " 5537                 0.974100     0.000017   82.193586  55.987336   -0.122896  \n",
       " 5538                 0.997650     0.000015   78.906844  56.548809   -0.122896  \n",
       " 5539                 1.015080     0.000018  116.852937  51.460316   -1.293773  \n",
       " 5540                 0.986530     0.000171   15.847790  12.454036   -0.122896  \n",
       " 5541                 0.988540     0.000011   44.420570  13.333565   -0.261400  \n",
       " \n",
       " [5542 rows x 12 columns],\n",
       " 'Signal ($m_H$ = 125 GeV)':            lep_charge          lep_type  \\\n",
       " entry                                     \n",
       " 0      [1, -1, 1, -1]  [13, 13, 13, 13]   \n",
       " 1      [-1, 1, -1, 1]  [13, 13, 13, 13]   \n",
       " 2      [1, -1, 1, -1]  [13, 11, 11, 13]   \n",
       " 3      [-1, -1, 1, 1]  [13, 11, 13, 11]   \n",
       " 4      [1, -1, 1, -1]  [11, 11, 11, 11]   \n",
       " ...               ...               ...   \n",
       " 139    [-1, 1, 1, -1]  [11, 11, 11, 11]   \n",
       " 140    [1, -1, 1, -1]  [11, 11, 11, 11]   \n",
       " 141    [-1, 1, 1, -1]  [11, 11, 13, 13]   \n",
       " 142    [-1, 1, 1, -1]  [13, 11, 13, 11]   \n",
       " 143    [1, 1, -1, -1]  [11, 11, 11, 11]   \n",
       " \n",
       "                                              lep_pt   mcWeight  \\\n",
       " entry                                                            \n",
       " 0        [51905.457, 41248.57, 16397.67, 7471.2275]  28.485731   \n",
       " 1      [41430.645, 40307.168, 16133.789, 7481.8574]  28.485731   \n",
       " 2         [33646.71, 27313.271, 20035.95, 16472.64]  28.485731   \n",
       " 3        [77118.56, 27845.74, 17726.541, 14714.521]  28.485731   \n",
       " 4       [161909.22, 53367.754, 25596.69, 18864.479]  28.485731   \n",
       " ...                                             ...        ...   \n",
       " 139     [30442.078, 27160.451, 24313.803, 21053.91]   1.000000   \n",
       " 140    [42678.773, 23603.438, 17438.469, 11888.146]   1.000000   \n",
       " 141      [30137.34, 30057.568, 29913.898, 17895.34]   1.000000   \n",
       " 142       [50947.89, 44904.566, 40819.3, 19284.955]   1.000000   \n",
       " 143      [55523.67, 47649.656, 39711.52, 10620.313]   1.000000   \n",
       " \n",
       "        scaleFactor_PILEUP  scaleFactor_ELE  scaleFactor_MUON  \\\n",
       " entry                                                          \n",
       " 0                0.351687         1.000000          0.984327   \n",
       " 1                0.553627         1.000000          0.985408   \n",
       " 2                0.738662         0.961790          0.980976   \n",
       " 3                1.087349         0.915589          0.993131   \n",
       " 4                1.554649         0.813747          1.000000   \n",
       " ...                   ...              ...               ...   \n",
       " 139              1.214122         0.812825          1.000000   \n",
       " 140              1.320948         0.817170          1.000000   \n",
       " 141              1.320948         0.925307          0.991015   \n",
       " 142              0.923924         0.886403          0.991079   \n",
       " 143              0.923924         0.891087          1.000000   \n",
       " \n",
       "        scaleFactor_LepTRIGGER   totalWeight   lep_pt_1   lep_pt_2  \n",
       " entry                                                              \n",
       " 0                    0.832276  1.773158e-06  41.248570  16.397670  \n",
       " 1                    0.999803  3.356853e-06  40.307168  16.133789  \n",
       " 2                    0.937310  4.020248e-06  27.313271  20.035949  \n",
       " 3                    0.977310  5.946932e-06  27.845740  17.726541  \n",
       " 4                    0.998660  7.775428e-06  53.367754  25.596689  \n",
       " ...                       ...           ...        ...        ...  \n",
       " 139                  1.018830  1.436106e-08  27.160451  24.313803  \n",
       " 140                  0.967930  1.492338e-08  23.603437  17.438469  \n",
       " 141                  0.972560  1.682650e-08  30.057568  29.913898  \n",
       " 142                  0.977850  1.133634e-08  44.904566  40.819301  \n",
       " 143                  0.966770  1.136854e-08  47.649656  39.711520  \n",
       " \n",
       " [3855 rows x 11 columns]}"
      ]
     },
     "execution_count": 49,
     "metadata": {},
     "output_type": "execute_result"
    }
   ],
   "source": [
    "a"
   ]
  },
  {
   "cell_type": "code",
   "execution_count": null,
   "metadata": {},
   "outputs": [],
   "source": []
  }
 ],
 "metadata": {
  "kernelspec": {
   "display_name": "Python 3 (ipykernel)",
   "language": "python",
   "name": "python3"
  },
  "language_info": {
   "codemirror_mode": {
    "name": "ipython",
    "version": 3
   },
   "file_extension": ".py",
   "mimetype": "text/x-python",
   "name": "python",
   "nbconvert_exporter": "python",
   "pygments_lexer": "ipython3",
   "version": "3.11.8"
  }
 },
 "nbformat": 4,
 "nbformat_minor": 4
}
